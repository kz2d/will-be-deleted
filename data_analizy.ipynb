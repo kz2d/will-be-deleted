{
 "cells": [
  {
   "cell_type": "code",
   "execution_count": 93,
   "metadata": {},
   "outputs": [],
   "source": [
    "import pandas as pd\n",
    "import numpy as np\n",
    "import matplotlib.pyplot as plt"
   ]
  },
  {
   "cell_type": "code",
   "execution_count": 94,
   "metadata": {},
   "outputs": [
    {
     "data": {
      "text/html": [
       "<div>\n",
       "<style scoped>\n",
       "    .dataframe tbody tr th:only-of-type {\n",
       "        vertical-align: middle;\n",
       "    }\n",
       "\n",
       "    .dataframe tbody tr th {\n",
       "        vertical-align: top;\n",
       "    }\n",
       "\n",
       "    .dataframe thead th {\n",
       "        text-align: right;\n",
       "    }\n",
       "</style>\n",
       "<table border=\"1\" class=\"dataframe\">\n",
       "  <thead>\n",
       "    <tr style=\"text-align: right;\">\n",
       "      <th></th>\n",
       "      <th>url</th>\n",
       "      <th>fork</th>\n",
       "      <th>stars</th>\n",
       "      <th>contr_count</th>\n",
       "      <th>lang</th>\n",
       "      <th>have_site</th>\n",
       "      <th>have_releases</th>\n",
       "      <th>license</th>\n",
       "    </tr>\n",
       "  </thead>\n",
       "  <tbody>\n",
       "    <tr>\n",
       "      <th>0</th>\n",
       "      <td>https://github.com/MabezDev/xtensa-rust-quicks...</td>\n",
       "      <td>43</td>\n",
       "      <td>342</td>\n",
       "      <td>1</td>\n",
       "      <td>[('Rust', 100.0)]</td>\n",
       "      <td>False</td>\n",
       "      <td>False</td>\n",
       "      <td>NaN</td>\n",
       "    </tr>\n",
       "    <tr>\n",
       "      <th>1</th>\n",
       "      <td>https://github.com/srijs/rust-aws-lambda</td>\n",
       "      <td>19</td>\n",
       "      <td>320</td>\n",
       "      <td>1</td>\n",
       "      <td>[('Rust', 100.0)]</td>\n",
       "      <td>False</td>\n",
       "      <td>False</td>\n",
       "      <td>MIT license</td>\n",
       "    </tr>\n",
       "    <tr>\n",
       "      <th>2</th>\n",
       "      <td>https://github.com/servo/rust-mozjs</td>\n",
       "      <td>122</td>\n",
       "      <td>292</td>\n",
       "      <td>1</td>\n",
       "      <td>[('Rust', 75.8), ('C++', 23.1)]</td>\n",
       "      <td>False</td>\n",
       "      <td>False</td>\n",
       "      <td>MPL-2.0 license</td>\n",
       "    </tr>\n",
       "    <tr>\n",
       "      <th>3</th>\n",
       "      <td>https://github.com/budziq/rust-skeptic</td>\n",
       "      <td>42</td>\n",
       "      <td>282</td>\n",
       "      <td>1</td>\n",
       "      <td>[('Rust', 100.0)]</td>\n",
       "      <td>False</td>\n",
       "      <td>False</td>\n",
       "      <td>NaN</td>\n",
       "    </tr>\n",
       "    <tr>\n",
       "      <th>4</th>\n",
       "      <td>https://github.com/maidsafe/sn_routing</td>\n",
       "      <td>83</td>\n",
       "      <td>276</td>\n",
       "      <td>1</td>\n",
       "      <td>[('Rust', 98.3), ('Shell', 1.7)]</td>\n",
       "      <td>False</td>\n",
       "      <td>False</td>\n",
       "      <td>View license</td>\n",
       "    </tr>\n",
       "  </tbody>\n",
       "</table>\n",
       "</div>"
      ],
      "text/plain": [
       "                                                 url  fork  stars  \\\n",
       "0  https://github.com/MabezDev/xtensa-rust-quicks...    43    342   \n",
       "1           https://github.com/srijs/rust-aws-lambda    19    320   \n",
       "2                https://github.com/servo/rust-mozjs   122    292   \n",
       "3             https://github.com/budziq/rust-skeptic    42    282   \n",
       "4             https://github.com/maidsafe/sn_routing    83    276   \n",
       "\n",
       "   contr_count                              lang  have_site  have_releases  \\\n",
       "0            1                 [('Rust', 100.0)]      False          False   \n",
       "1            1                 [('Rust', 100.0)]      False          False   \n",
       "2            1   [('Rust', 75.8), ('C++', 23.1)]      False          False   \n",
       "3            1                 [('Rust', 100.0)]      False          False   \n",
       "4            1  [('Rust', 98.3), ('Shell', 1.7)]      False          False   \n",
       "\n",
       "           license  \n",
       "0              NaN  \n",
       "1      MIT license  \n",
       "2  MPL-2.0 license  \n",
       "3              NaN  \n",
       "4     View license  "
      ]
     },
     "execution_count": 94,
     "metadata": {},
     "output_type": "execute_result"
    }
   ],
   "source": [
    "data = pd.read_csv('my_data.csv', index_col=0)\n",
    "\n",
    "data.head()"
   ]
  },
  {
   "cell_type": "code",
   "execution_count": 95,
   "metadata": {},
   "outputs": [
    {
     "data": {
      "text/plain": [
       "url              object\n",
       "fork              int64\n",
       "stars             int64\n",
       "contr_count       int64\n",
       "lang             object\n",
       "have_site          bool\n",
       "have_releases      bool\n",
       "license          object\n",
       "dtype: object"
      ]
     },
     "execution_count": 95,
     "metadata": {},
     "output_type": "execute_result"
    }
   ],
   "source": [
    "data.dtypes"
   ]
  },
  {
   "cell_type": "code",
   "execution_count": 96,
   "metadata": {},
   "outputs": [
    {
     "name": "stderr",
     "output_type": "stream",
     "text": [
      "/tmp/ipykernel_218404/1576046855.py:7: FutureWarning: The default value of numeric_only in DataFrame.corr is deprecated. In a future version, it will default to False. Select only valid columns or specify the value of numeric_only to silence this warning.\n",
      "  plt.matshow(data_corr.corr())\n"
     ]
    },
    {
     "data": {
      "image/png": "[encoded data removed]",
      "text/plain": [
       "<Figure size 480x480 with 1 Axes>"
      ]
     },
     "metadata": {},
     "output_type": "display_data"
    }
   ],
   "source": [
    "# data['lang'].unique()\n",
    "data_corr = data.copy()\n",
    "data_corr.license = data_corr.license.astype('category').cat.codes\n",
    "data_corr = data_corr[data_corr.stars !=0]\n",
    "data_corr = data_corr[data_corr.fork !=0]\n",
    "data_corr = data_corr[data_corr.contr_count != 0]\n",
    "plt.matshow(data_corr.corr())\n",
    "plt.show()"
   ]
  },
  {
   "cell_type": "markdown",
   "metadata": {},
   "source": [
    "We found out that all out project don't have sites and have only one contributor, so this data is irrelevant"
   ]
  },
  {
   "cell_type": "markdown",
   "metadata": {},
   "source": [
    "\n",
    "Lets create more features"
   ]
  },
  {
   "cell_type": "code",
   "execution_count": 97,
   "metadata": {},
   "outputs": [
    {
     "data": {
      "text/html": [
       "<div>\n",
       "<style scoped>\n",
       "    .dataframe tbody tr th:only-of-type {\n",
       "        vertical-align: middle;\n",
       "    }\n",
       "\n",
       "    .dataframe tbody tr th {\n",
       "        vertical-align: top;\n",
       "    }\n",
       "\n",
       "    .dataframe thead th {\n",
       "        text-align: right;\n",
       "    }\n",
       "</style>\n",
       "<table border=\"1\" class=\"dataframe\">\n",
       "  <thead>\n",
       "    <tr style=\"text-align: right;\">\n",
       "      <th></th>\n",
       "      <th>url</th>\n",
       "      <th>fork</th>\n",
       "      <th>stars</th>\n",
       "      <th>lang</th>\n",
       "      <th>license</th>\n",
       "    </tr>\n",
       "  </thead>\n",
       "  <tbody>\n",
       "    <tr>\n",
       "      <th>0</th>\n",
       "      <td>https://github.com/MabezDev/xtensa-rust-quicks...</td>\n",
       "      <td>43</td>\n",
       "      <td>342</td>\n",
       "      <td>[('Rust', 100.0)]</td>\n",
       "      <td>NaN</td>\n",
       "    </tr>\n",
       "    <tr>\n",
       "      <th>1</th>\n",
       "      <td>https://github.com/srijs/rust-aws-lambda</td>\n",
       "      <td>19</td>\n",
       "      <td>320</td>\n",
       "      <td>[('Rust', 100.0)]</td>\n",
       "      <td>MIT license</td>\n",
       "    </tr>\n",
       "    <tr>\n",
       "      <th>2</th>\n",
       "      <td>https://github.com/servo/rust-mozjs</td>\n",
       "      <td>122</td>\n",
       "      <td>292</td>\n",
       "      <td>[('Rust', 75.8), ('C++', 23.1)]</td>\n",
       "      <td>MPL-2.0 license</td>\n",
       "    </tr>\n",
       "    <tr>\n",
       "      <th>3</th>\n",
       "      <td>https://github.com/budziq/rust-skeptic</td>\n",
       "      <td>42</td>\n",
       "      <td>282</td>\n",
       "      <td>[('Rust', 100.0)]</td>\n",
       "      <td>NaN</td>\n",
       "    </tr>\n",
       "    <tr>\n",
       "      <th>4</th>\n",
       "      <td>https://github.com/maidsafe/sn_routing</td>\n",
       "      <td>83</td>\n",
       "      <td>276</td>\n",
       "      <td>[('Rust', 98.3), ('Shell', 1.7)]</td>\n",
       "      <td>View license</td>\n",
       "    </tr>\n",
       "  </tbody>\n",
       "</table>\n",
       "</div>"
      ],
      "text/plain": [
       "                                                 url  fork  stars  \\\n",
       "0  https://github.com/MabezDev/xtensa-rust-quicks...    43    342   \n",
       "1           https://github.com/srijs/rust-aws-lambda    19    320   \n",
       "2                https://github.com/servo/rust-mozjs   122    292   \n",
       "3             https://github.com/budziq/rust-skeptic    42    282   \n",
       "4             https://github.com/maidsafe/sn_routing    83    276   \n",
       "\n",
       "                               lang          license  \n",
       "0                 [('Rust', 100.0)]              NaN  \n",
       "1                 [('Rust', 100.0)]      MIT license  \n",
       "2   [('Rust', 75.8), ('C++', 23.1)]  MPL-2.0 license  \n",
       "3                 [('Rust', 100.0)]              NaN  \n",
       "4  [('Rust', 98.3), ('Shell', 1.7)]     View license  "
      ]
     },
     "execution_count": 97,
     "metadata": {},
     "output_type": "execute_result"
    }
   ],
   "source": [
    "data = data.drop(columns=['have_site','have_releases','contr_count'])\n",
    "data.head()"
   ]
  },
  {
   "cell_type": "code",
   "execution_count": 106,
   "metadata": {},
   "outputs": [
    {
     "data": {
      "text/html": [
       "<div>\n",
       "<style scoped>\n",
       "    .dataframe tbody tr th:only-of-type {\n",
       "        vertical-align: middle;\n",
       "    }\n",
       "\n",
       "    .dataframe tbody tr th {\n",
       "        vertical-align: top;\n",
       "    }\n",
       "\n",
       "    .dataframe thead th {\n",
       "        text-align: right;\n",
       "    }\n",
       "</style>\n",
       "<table border=\"1\" class=\"dataframe\">\n",
       "  <thead>\n",
       "    <tr style=\"text-align: right;\">\n",
       "      <th></th>\n",
       "      <th>url</th>\n",
       "      <th>fork</th>\n",
       "      <th>stars</th>\n",
       "      <th>lang</th>\n",
       "      <th>license</th>\n",
       "      <th>rust_percent</th>\n",
       "      <th>cpp_percent</th>\n",
       "      <th>language_count</th>\n",
       "    </tr>\n",
       "  </thead>\n",
       "  <tbody>\n",
       "    <tr>\n",
       "      <th>0</th>\n",
       "      <td>https://github.com/MabezDev/xtensa-rust-quicks...</td>\n",
       "      <td>43</td>\n",
       "      <td>342</td>\n",
       "      <td>[('Rust', 100.0)]</td>\n",
       "      <td>NaN</td>\n",
       "      <td>100.0</td>\n",
       "      <td>0.0</td>\n",
       "      <td>1</td>\n",
       "    </tr>\n",
       "    <tr>\n",
       "      <th>1</th>\n",
       "      <td>https://github.com/srijs/rust-aws-lambda</td>\n",
       "      <td>19</td>\n",
       "      <td>320</td>\n",
       "      <td>[('Rust', 100.0)]</td>\n",
       "      <td>MIT license</td>\n",
       "      <td>100.0</td>\n",
       "      <td>0.0</td>\n",
       "      <td>1</td>\n",
       "    </tr>\n",
       "    <tr>\n",
       "      <th>2</th>\n",
       "      <td>https://github.com/servo/rust-mozjs</td>\n",
       "      <td>122</td>\n",
       "      <td>292</td>\n",
       "      <td>[('Rust', 75.8), ('C++', 23.1)]</td>\n",
       "      <td>MPL-2.0 license</td>\n",
       "      <td>75.8</td>\n",
       "      <td>23.1</td>\n",
       "      <td>2</td>\n",
       "    </tr>\n",
       "    <tr>\n",
       "      <th>3</th>\n",
       "      <td>https://github.com/budziq/rust-skeptic</td>\n",
       "      <td>42</td>\n",
       "      <td>282</td>\n",
       "      <td>[('Rust', 100.0)]</td>\n",
       "      <td>NaN</td>\n",
       "      <td>100.0</td>\n",
       "      <td>0.0</td>\n",
       "      <td>1</td>\n",
       "    </tr>\n",
       "    <tr>\n",
       "      <th>4</th>\n",
       "      <td>https://github.com/maidsafe/sn_routing</td>\n",
       "      <td>83</td>\n",
       "      <td>276</td>\n",
       "      <td>[('Rust', 98.3), ('Shell', 1.7)]</td>\n",
       "      <td>View license</td>\n",
       "      <td>98.3</td>\n",
       "      <td>0.0</td>\n",
       "      <td>2</td>\n",
       "    </tr>\n",
       "  </tbody>\n",
       "</table>\n",
       "</div>"
      ],
      "text/plain": [
       "                                                 url  fork  stars  \\\n",
       "0  https://github.com/MabezDev/xtensa-rust-quicks...    43    342   \n",
       "1           https://github.com/srijs/rust-aws-lambda    19    320   \n",
       "2                https://github.com/servo/rust-mozjs   122    292   \n",
       "3             https://github.com/budziq/rust-skeptic    42    282   \n",
       "4             https://github.com/maidsafe/sn_routing    83    276   \n",
       "\n",
       "                               lang          license  rust_percent  \\\n",
       "0                 [('Rust', 100.0)]              NaN         100.0   \n",
       "1                 [('Rust', 100.0)]      MIT license         100.0   \n",
       "2   [('Rust', 75.8), ('C++', 23.1)]  MPL-2.0 license          75.8   \n",
       "3                 [('Rust', 100.0)]              NaN         100.0   \n",
       "4  [('Rust', 98.3), ('Shell', 1.7)]     View license          98.3   \n",
       "\n",
       "   cpp_percent  language_count  \n",
       "0          0.0               1  \n",
       "1          0.0               1  \n",
       "2         23.1               2  \n",
       "3          0.0               1  \n",
       "4          0.0               2  "
      ]
     },
     "execution_count": 106,
     "metadata": {},
     "output_type": "execute_result"
    }
   ],
   "source": [
    "data['rust_percent'] = data.lang.str.extract(r'\\(\\'Rust\\',\\s(.*?)\\)').astype(float)\n",
    "data['cpp_percent'] = data.lang.str.extract(r'\\(\\'C\\+\\+\\',\\s(.*?)\\)').fillna(value=0).astype(float)\n",
    "data['language_count'] = data.lang.str.count('\\)')\n",
    "data.head()"
   ]
  },
  {
   "cell_type": "code",
   "execution_count": 107,
   "metadata": {},
   "outputs": [
    {
     "name": "stderr",
     "output_type": "stream",
     "text": [
      "/tmp/ipykernel_218404/2380192523.py:5: FutureWarning: The default value of numeric_only in DataFrame.corr is deprecated. In a future version, it will default to False. Select only valid columns or specify the value of numeric_only to silence this warning.\n",
      "  plt.matshow(data_corr.corr())\n"
     ]
    },
    {
     "data": {
      "image/png": "[encoded data removed]",
      "text/plain": [
       "<Figure size 480x480 with 1 Axes>"
      ]
     },
     "metadata": {},
     "output_type": "display_data"
    },
    {
     "data": {
      "text/plain": [
       "url                object\n",
       "fork                int64\n",
       "stars               int64\n",
       "lang               object\n",
       "license              int8\n",
       "rust_percent      float64\n",
       "cpp_percent       float64\n",
       "language_count      int64\n",
       "dtype: object"
      ]
     },
     "execution_count": 107,
     "metadata": {},
     "output_type": "execute_result"
    }
   ],
   "source": [
    "data_corr = data.copy()\n",
    "data_corr.license = data_corr.license.astype('category').cat.codes\n",
    "data_corr = data_corr[data_corr.stars !=0]\n",
    "data_corr = data_corr[data_corr.fork !=0]\n",
    "plt.matshow(data_corr.corr())\n",
    "plt.show()"
   ]
  },
  {
   "cell_type": "code",
   "execution_count": 119,
   "metadata": {},
   "outputs": [
    {
     "data": {
      "image/png": "[encoded data removed]",
      "text/plain": [
       "<Figure size 1000x1000 with 1 Axes>"
      ]
     },
     "metadata": {},
     "output_type": "display_data"
    }
   ],
   "source": [
    "bar = data.groupby('license').stars.mean().sort_values()\n",
    "\n",
    "plt.figure(figsize=(10, 10)) \n",
    "plt.barh(bar.index, bar.values)\n",
    "\n",
    "\n",
    "plt.show()"
   ]
  },
  {
   "cell_type": "code",
   "execution_count": 122,
   "metadata": {},
   "outputs": [
    {
     "data": {
      "image/png": "[encoded data removed]",
      "text/plain": [
       "<Figure size 640x480 with 1 Axes>"
      ]
     },
     "metadata": {},
     "output_type": "display_data"
    }
   ],
   "source": [
    "bar = data.groupby('language_count').stars.mean().sort_values()\n",
    "\n",
    "plt.bar(bar.index, bar.values)\n",
    "\n",
    "\n",
    "plt.show()"
   ]
  },
  {
   "cell_type": "markdown",
   "metadata": {},
   "source": [
    "Lets check features. "
   ]
  },
  {
   "cell_type": "markdown",
   "metadata": {},
   "source": [
    "1) Is fully Rust project"
   ]
  },
  {
   "cell_type": "code",
   "execution_count": 123,
   "metadata": {},
   "outputs": [
    {
     "data": {
      "text/plain": [
       "0       True\n",
       "1       True\n",
       "2      False\n",
       "3       True\n",
       "4      False\n",
       "       ...  \n",
       "995     True\n",
       "996    False\n",
       "997     True\n",
       "998     True\n",
       "999    False\n",
       "Name: full_rust, Length: 1000, dtype: bool"
      ]
     },
     "execution_count": 123,
     "metadata": {},
     "output_type": "execute_result"
    }
   ],
   "source": [
    "data['full_rust']=data.rust_percent==100\n",
    "data.full_rust"
   ]
  },
  {
   "cell_type": "markdown",
   "metadata": {},
   "source": [
    "2) Forks per language"
   ]
  },
  {
   "cell_type": "code",
   "execution_count": 124,
   "metadata": {},
   "outputs": [
    {
     "data": {
      "text/plain": [
       "0      43.0\n",
       "1      19.0\n",
       "2      61.0\n",
       "3      42.0\n",
       "4      41.5\n",
       "       ... \n",
       "995    17.0\n",
       "996     1.0\n",
       "997     1.0\n",
       "998    13.0\n",
       "999     1.0\n",
       "Name: forks_per_lang, Length: 1000, dtype: float64"
      ]
     },
     "execution_count": 124,
     "metadata": {},
     "output_type": "execute_result"
    }
   ],
   "source": [
    "data['forks_per_lang']=data.fork / data.language_count\n",
    "data.forks_per_lang"
   ]
  },
  {
   "cell_type": "code",
   "execution_count": 127,
   "metadata": {},
   "outputs": [
    {
     "name": "stderr",
     "output_type": "stream",
     "text": [
      "/tmp/ipykernel_218404/4079742048.py:5: FutureWarning: The default value of numeric_only in DataFrame.corr is deprecated. In a future version, it will default to False. Select only valid columns or specify the value of numeric_only to silence this warning.\n",
      "  plt.matshow(data_corr.corr())\n"
     ]
    },
    {
     "data": {
      "image/png": "[encoded data removed]",
      "text/plain": [
       "<Figure size 480x480 with 1 Axes>"
      ]
     },
     "metadata": {},
     "output_type": "display_data"
    }
   ],
   "source": [
    "data_corr = data.copy()\n",
    "data_corr.license = data_corr.license.astype('category').cat.codes\n",
    "data_corr = data_corr[data_corr.stars !=0]\n",
    "data_corr = data_corr[data_corr.fork !=0]\n",
    "plt.matshow(data_corr.corr())\n",
    "plt.show()"
   ]
  },
  {
   "cell_type": "code",
   "execution_count": 137,
   "metadata": {},
   "outputs": [
    {
     "data": {
      "text/html": [
       "<div>\n",
       "<style scoped>\n",
       "    .dataframe tbody tr th:only-of-type {\n",
       "        vertical-align: middle;\n",
       "    }\n",
       "\n",
       "    .dataframe tbody tr th {\n",
       "        vertical-align: top;\n",
       "    }\n",
       "\n",
       "    .dataframe thead th {\n",
       "        text-align: right;\n",
       "    }\n",
       "</style>\n",
       "<table border=\"1\" class=\"dataframe\">\n",
       "  <thead>\n",
       "    <tr style=\"text-align: right;\">\n",
       "      <th></th>\n",
       "      <th>fork</th>\n",
       "      <th>stars</th>\n",
       "      <th>rust_percent</th>\n",
       "      <th>cpp_percent</th>\n",
       "      <th>language_count</th>\n",
       "      <th>full_rust</th>\n",
       "      <th>forks_per_lang</th>\n",
       "      <th>license_0BSD license</th>\n",
       "      <th>license_AGPL-3.0 license</th>\n",
       "      <th>license_Apache-2.0 license</th>\n",
       "      <th>...</th>\n",
       "      <th>license_GPL-2.0 license</th>\n",
       "      <th>license_GPL-3.0 license</th>\n",
       "      <th>license_ISC license</th>\n",
       "      <th>license_LGPL-2.1 license</th>\n",
       "      <th>license_LGPL-3.0 license</th>\n",
       "      <th>license_MIT license</th>\n",
       "      <th>license_MPL-2.0 license</th>\n",
       "      <th>license_Unlicense license</th>\n",
       "      <th>license_View license</th>\n",
       "      <th>license_Zlib license</th>\n",
       "    </tr>\n",
       "  </thead>\n",
       "  <tbody>\n",
       "    <tr>\n",
       "      <th>0</th>\n",
       "      <td>43.0</td>\n",
       "      <td>342.0</td>\n",
       "      <td>100.0</td>\n",
       "      <td>0.0</td>\n",
       "      <td>1.0</td>\n",
       "      <td>1.0</td>\n",
       "      <td>43.0</td>\n",
       "      <td>0.0</td>\n",
       "      <td>0.0</td>\n",
       "      <td>0.0</td>\n",
       "      <td>...</td>\n",
       "      <td>0.0</td>\n",
       "      <td>0.0</td>\n",
       "      <td>0.0</td>\n",
       "      <td>0.0</td>\n",
       "      <td>0.0</td>\n",
       "      <td>0.0</td>\n",
       "      <td>0.0</td>\n",
       "      <td>0.0</td>\n",
       "      <td>0.0</td>\n",
       "      <td>0.0</td>\n",
       "    </tr>\n",
       "    <tr>\n",
       "      <th>1</th>\n",
       "      <td>19.0</td>\n",
       "      <td>320.0</td>\n",
       "      <td>100.0</td>\n",
       "      <td>0.0</td>\n",
       "      <td>1.0</td>\n",
       "      <td>1.0</td>\n",
       "      <td>19.0</td>\n",
       "      <td>0.0</td>\n",
       "      <td>0.0</td>\n",
       "      <td>0.0</td>\n",
       "      <td>...</td>\n",
       "      <td>0.0</td>\n",
       "      <td>0.0</td>\n",
       "      <td>0.0</td>\n",
       "      <td>0.0</td>\n",
       "      <td>0.0</td>\n",
       "      <td>1.0</td>\n",
       "      <td>0.0</td>\n",
       "      <td>0.0</td>\n",
       "      <td>0.0</td>\n",
       "      <td>0.0</td>\n",
       "    </tr>\n",
       "    <tr>\n",
       "      <th>2</th>\n",
       "      <td>122.0</td>\n",
       "      <td>292.0</td>\n",
       "      <td>75.8</td>\n",
       "      <td>23.1</td>\n",
       "      <td>2.0</td>\n",
       "      <td>0.0</td>\n",
       "      <td>61.0</td>\n",
       "      <td>0.0</td>\n",
       "      <td>0.0</td>\n",
       "      <td>0.0</td>\n",
       "      <td>...</td>\n",
       "      <td>0.0</td>\n",
       "      <td>0.0</td>\n",
       "      <td>0.0</td>\n",
       "      <td>0.0</td>\n",
       "      <td>0.0</td>\n",
       "      <td>0.0</td>\n",
       "      <td>1.0</td>\n",
       "      <td>0.0</td>\n",
       "      <td>0.0</td>\n",
       "      <td>0.0</td>\n",
       "    </tr>\n",
       "    <tr>\n",
       "      <th>3</th>\n",
       "      <td>42.0</td>\n",
       "      <td>282.0</td>\n",
       "      <td>100.0</td>\n",
       "      <td>0.0</td>\n",
       "      <td>1.0</td>\n",
       "      <td>1.0</td>\n",
       "      <td>42.0</td>\n",
       "      <td>0.0</td>\n",
       "      <td>0.0</td>\n",
       "      <td>0.0</td>\n",
       "      <td>...</td>\n",
       "      <td>0.0</td>\n",
       "      <td>0.0</td>\n",
       "      <td>0.0</td>\n",
       "      <td>0.0</td>\n",
       "      <td>0.0</td>\n",
       "      <td>0.0</td>\n",
       "      <td>0.0</td>\n",
       "      <td>0.0</td>\n",
       "      <td>0.0</td>\n",
       "      <td>0.0</td>\n",
       "    </tr>\n",
       "    <tr>\n",
       "      <th>4</th>\n",
       "      <td>83.0</td>\n",
       "      <td>276.0</td>\n",
       "      <td>98.3</td>\n",
       "      <td>0.0</td>\n",
       "      <td>2.0</td>\n",
       "      <td>0.0</td>\n",
       "      <td>41.5</td>\n",
       "      <td>0.0</td>\n",
       "      <td>0.0</td>\n",
       "      <td>0.0</td>\n",
       "      <td>...</td>\n",
       "      <td>0.0</td>\n",
       "      <td>0.0</td>\n",
       "      <td>0.0</td>\n",
       "      <td>0.0</td>\n",
       "      <td>0.0</td>\n",
       "      <td>0.0</td>\n",
       "      <td>0.0</td>\n",
       "      <td>0.0</td>\n",
       "      <td>1.0</td>\n",
       "      <td>0.0</td>\n",
       "    </tr>\n",
       "  </tbody>\n",
       "</table>\n",
       "<p>5 rows × 24 columns</p>\n",
       "</div>"
      ],
      "text/plain": [
       "    fork  stars  rust_percent  cpp_percent  language_count  full_rust  \\\n",
       "0   43.0  342.0         100.0          0.0             1.0        1.0   \n",
       "1   19.0  320.0         100.0          0.0             1.0        1.0   \n",
       "2  122.0  292.0          75.8         23.1             2.0        0.0   \n",
       "3   42.0  282.0         100.0          0.0             1.0        1.0   \n",
       "4   83.0  276.0          98.3          0.0             2.0        0.0   \n",
       "\n",
       "   forks_per_lang  license_0BSD license  license_AGPL-3.0 license  \\\n",
       "0            43.0                   0.0                       0.0   \n",
       "1            19.0                   0.0                       0.0   \n",
       "2            61.0                   0.0                       0.0   \n",
       "3            42.0                   0.0                       0.0   \n",
       "4            41.5                   0.0                       0.0   \n",
       "\n",
       "   license_Apache-2.0 license  ...  license_GPL-2.0 license  \\\n",
       "0                         0.0  ...                      0.0   \n",
       "1                         0.0  ...                      0.0   \n",
       "2                         0.0  ...                      0.0   \n",
       "3                         0.0  ...                      0.0   \n",
       "4                         0.0  ...                      0.0   \n",
       "\n",
       "   license_GPL-3.0 license  license_ISC license  license_LGPL-2.1 license  \\\n",
       "0                      0.0                  0.0                       0.0   \n",
       "1                      0.0                  0.0                       0.0   \n",
       "2                      0.0                  0.0                       0.0   \n",
       "3                      0.0                  0.0                       0.0   \n",
       "4                      0.0                  0.0                       0.0   \n",
       "\n",
       "   license_LGPL-3.0 license  license_MIT license  license_MPL-2.0 license  \\\n",
       "0                       0.0                  0.0                      0.0   \n",
       "1                       0.0                  1.0                      0.0   \n",
       "2                       0.0                  0.0                      1.0   \n",
       "3                       0.0                  0.0                      0.0   \n",
       "4                       0.0                  0.0                      0.0   \n",
       "\n",
       "   license_Unlicense license  license_View license  license_Zlib license  \n",
       "0                        0.0                   0.0                   0.0  \n",
       "1                        0.0                   0.0                   0.0  \n",
       "2                        0.0                   0.0                   0.0  \n",
       "3                        0.0                   0.0                   0.0  \n",
       "4                        0.0                   1.0                   0.0  \n",
       "\n",
       "[5 rows x 24 columns]"
      ]
     },
     "execution_count": 137,
     "metadata": {},
     "output_type": "execute_result"
    }
   ],
   "source": [
    "data_l = data.copy()\n",
    "data_l.license = data_l.license.astype('category')\n",
    "data_l = pd.get_dummies(data_l, columns=['license'])\n",
    "data_l.full_rust = data_l.full_rust.astype(int)\n",
    "data_l = data_l.drop(columns=['url','lang',])\n",
    "data_l = data_l.astype('float')\n",
    "data_l.head()"
   ]
  },
  {
   "cell_type": "code",
   "execution_count": 138,
   "metadata": {},
   "outputs": [],
   "source": [
    "data_l.to_csv('data_preproced.csv')"
   ]
  }
 ],
 "metadata": {
  "kernelspec": {
   "display_name": "Python 3",
   "language": "python",
   "name": "python3"
  },
  "language_info": {
   "codemirror_mode": {
    "name": "ipython",
    "version": 3
   },
   "file_extension": ".py",
   "mimetype": "text/x-python",
   "name": "python",
   "nbconvert_exporter": "python",
   "pygments_lexer": "ipython3",
   "version": "3.10.12"
  }
 },
 "nbformat": 4,
 "nbformat_minor": 2
}
