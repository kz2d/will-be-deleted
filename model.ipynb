{
 "cells": [
  {
   "cell_type": "code",
   "execution_count": 6,
   "metadata": {},
   "outputs": [],
   "source": [
    "import pandas as pd \n",
    "import numpy as np\n",
    "from sklearn.model_selection import train_test_split\n",
    "from sklearn.metrics import mean_squared_error\n",
    "from sklearn.linear_model import LinearRegression\n",
    "from linreg import Lin"
   ]
  },
  {
   "cell_type": "code",
   "execution_count": 2,
   "metadata": {},
   "outputs": [],
   "source": [
    "data =pd.read_csv('data_preproced.csv', index_col=0)\n",
    "x = data.drop(columns=['stars'])\n",
    "y = data['stars']\n",
    "\n",
    "x_train, x_test, y_train, y_test = train_test_split(x, y, test_size=0.2, random_state=42)\n",
    "x_test, x_val, y_test, y_val = train_test_split(x_test, y_test, test_size=0.5, random_state=42)"
   ]
  },
  {
   "cell_type": "code",
   "execution_count": 3,
   "metadata": {},
   "outputs": [
    {
     "name": "stdout",
     "output_type": "stream",
     "text": [
      "880.2235914894638\n"
     ]
    }
   ],
   "source": [
    "reg = Lin()\n",
    "\n",
    "reg.fit(x_train,y_train)\n",
    "\n",
    "test_predict = reg.predict(x_test)\n",
    "\n",
    "print(mean_squared_error(y_test, test_predict))"
   ]
  },
  {
   "cell_type": "code",
   "execution_count": 8,
   "metadata": {},
   "outputs": [
    {
     "name": "stdout",
     "output_type": "stream",
     "text": [
      "880.2235914894638\n"
     ]
    }
   ],
   "source": [
    "sklearn_mod = LinearRegression()\n",
    "\n",
    "sklearn_mod.fit(x_train,y_train)\n",
    "\n",
    "test_pred = sklearn_mod.predict(x_test)\n",
    "\n",
    "print(mean_squared_error(y_test, test_predict))"
   ]
  },
  {
   "cell_type": "markdown",
   "metadata": {},
   "source": [
    "Take a look at weight to determine which parameter is the most important for us"
   ]
  },
  {
   "cell_type": "code",
   "execution_count": 41,
   "metadata": {},
   "outputs": [
    {
     "name": "stdout",
     "output_type": "stream",
     "text": [
      "fork 0.9630800223176947\n",
      "stars 0.1596695339299159\n",
      "rust_percent 1.9288907767774326\n",
      "cpp_percent 1.0337470083461104\n",
      "language_count -5.49944911533865\n",
      "full_rust 0.40619012696563717\n",
      "forks_per_lang -17.137517607087986\n",
      "license_0BSD license 1.5688791574493535\n",
      "license_AGPL-3.0 license 4.4653627747572395\n",
      "license_Apache-2.0 license 0.9721133215693968\n",
      "license_BSD-2-Clause license -7.223284568945052\n",
      "license_BSD-3-Clause license -2.1316282072803006e-14\n",
      "license_BSL-1.0 license -33.15921066358191\n",
      "license_CC0-1.0 license 17.93947702143361\n",
      "license_GPL-2.0 license -8.853322767288404\n",
      "license_GPL-3.0 license 14.872402986762866\n",
      "license_ISC license -17.725202443175107\n",
      "license_LGPL-2.1 license -15.642430715455445\n",
      "license_LGPL-3.0 license -0.4602391868388098\n",
      "license_MIT license 8.630325103236228\n",
      "license_MPL-2.0 license -11.538358321410042\n",
      "license_Unlicense license -8.201111832817377\n",
      "license_View license 0.0\n",
      "license_Zlib license 47.56350618304804\n"
     ]
    }
   ],
   "source": [
    "reg.w\n",
    "row = data.columns\n",
    "for i in range(len(reg.w)):\n",
    "    print(row[i] , reg.w[i])"
   ]
  },
  {
   "cell_type": "markdown",
   "metadata": {},
   "source": [
    "Lets check what two best params can do"
   ]
  },
  {
   "cell_type": "code",
   "execution_count": 43,
   "metadata": {},
   "outputs": [
    {
     "name": "stdout",
     "output_type": "stream",
     "text": [
      "990.8804831555885\n"
     ]
    }
   ],
   "source": [
    "funky_train, funky_test = x_train[['forks_per_lang','rust_percent']], x_test[['forks_per_lang','rust_percent']]\n",
    "reg.fit(funky_train,y_train)\n",
    "\n",
    "test_predict = reg.predict(funky_test)\n",
    "\n",
    "print(mean_squared_error(y_test, test_predict))"
   ]
  }
 ],
 "metadata": {
  "kernelspec": {
   "display_name": "Python 3",
   "language": "python",
   "name": "python3"
  },
  "language_info": {
   "codemirror_mode": {
    "name": "ipython",
    "version": 3
   },
   "file_extension": ".py",
   "mimetype": "text/x-python",
   "name": "python",
   "nbconvert_exporter": "python",
   "pygments_lexer": "ipython3",
   "version": "3.10.12"
  }
 },
 "nbformat": 4,
 "nbformat_minor": 2
}
